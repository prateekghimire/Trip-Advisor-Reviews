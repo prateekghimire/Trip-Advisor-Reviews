{
 "cells": [
  {
   "cell_type": "code",
   "execution_count": 1,
   "metadata": {},
   "outputs": [],
   "source": [
    "import pandas as pd\n",
    "import numpy as np"
   ]
  },
  {
   "cell_type": "code",
   "execution_count": 2,
   "metadata": {},
   "outputs": [],
   "source": [
    "import os"
   ]
  },
  {
   "cell_type": "code",
   "execution_count": 3,
   "metadata": {},
   "outputs": [
    {
     "data": {
      "text/plain": [
       "['.ipynb_checkpoints', 'tripadvisor_hotel_reviews.csv', 'Untitled.ipynb']"
      ]
     },
     "execution_count": 3,
     "metadata": {},
     "output_type": "execute_result"
    }
   ],
   "source": [
    "os.listdir()"
   ]
  },
  {
   "cell_type": "code",
   "execution_count": 4,
   "metadata": {},
   "outputs": [],
   "source": [
    "data=pd.read_csv('tripadvisor_hotel_reviews.csv')"
   ]
  },
  {
   "cell_type": "code",
   "execution_count": 5,
   "metadata": {},
   "outputs": [
    {
     "data": {
      "text/html": [
       "<div>\n",
       "<style scoped>\n",
       "    .dataframe tbody tr th:only-of-type {\n",
       "        vertical-align: middle;\n",
       "    }\n",
       "\n",
       "    .dataframe tbody tr th {\n",
       "        vertical-align: top;\n",
       "    }\n",
       "\n",
       "    .dataframe thead th {\n",
       "        text-align: right;\n",
       "    }\n",
       "</style>\n",
       "<table border=\"1\" class=\"dataframe\">\n",
       "  <thead>\n",
       "    <tr style=\"text-align: right;\">\n",
       "      <th></th>\n",
       "      <th>Review</th>\n",
       "      <th>Rating</th>\n",
       "    </tr>\n",
       "  </thead>\n",
       "  <tbody>\n",
       "    <tr>\n",
       "      <th>0</th>\n",
       "      <td>nice hotel expensive parking got good deal sta...</td>\n",
       "      <td>4</td>\n",
       "    </tr>\n",
       "    <tr>\n",
       "      <th>1</th>\n",
       "      <td>ok nothing special charge diamond member hilto...</td>\n",
       "      <td>2</td>\n",
       "    </tr>\n",
       "    <tr>\n",
       "      <th>2</th>\n",
       "      <td>nice rooms not 4* experience hotel monaco seat...</td>\n",
       "      <td>3</td>\n",
       "    </tr>\n",
       "    <tr>\n",
       "      <th>3</th>\n",
       "      <td>unique, great stay, wonderful time hotel monac...</td>\n",
       "      <td>5</td>\n",
       "    </tr>\n",
       "    <tr>\n",
       "      <th>4</th>\n",
       "      <td>great stay great stay, went seahawk game aweso...</td>\n",
       "      <td>5</td>\n",
       "    </tr>\n",
       "  </tbody>\n",
       "</table>\n",
       "</div>"
      ],
      "text/plain": [
       "                                              Review  Rating\n",
       "0  nice hotel expensive parking got good deal sta...       4\n",
       "1  ok nothing special charge diamond member hilto...       2\n",
       "2  nice rooms not 4* experience hotel monaco seat...       3\n",
       "3  unique, great stay, wonderful time hotel monac...       5\n",
       "4  great stay great stay, went seahawk game aweso...       5"
      ]
     },
     "execution_count": 5,
     "metadata": {},
     "output_type": "execute_result"
    }
   ],
   "source": [
    "data.head()"
   ]
  },
  {
   "cell_type": "code",
   "execution_count": 6,
   "metadata": {},
   "outputs": [
    {
     "data": {
      "text/html": [
       "<div>\n",
       "<style scoped>\n",
       "    .dataframe tbody tr th:only-of-type {\n",
       "        vertical-align: middle;\n",
       "    }\n",
       "\n",
       "    .dataframe tbody tr th {\n",
       "        vertical-align: top;\n",
       "    }\n",
       "\n",
       "    .dataframe thead tr th {\n",
       "        text-align: left;\n",
       "    }\n",
       "\n",
       "    .dataframe thead tr:last-of-type th {\n",
       "        text-align: right;\n",
       "    }\n",
       "</style>\n",
       "<table border=\"1\" class=\"dataframe\">\n",
       "  <thead>\n",
       "    <tr>\n",
       "      <th></th>\n",
       "      <th colspan=\"4\" halign=\"left\">Review</th>\n",
       "    </tr>\n",
       "    <tr>\n",
       "      <th></th>\n",
       "      <th>count</th>\n",
       "      <th>unique</th>\n",
       "      <th>top</th>\n",
       "      <th>freq</th>\n",
       "    </tr>\n",
       "    <tr>\n",
       "      <th>Rating</th>\n",
       "      <th></th>\n",
       "      <th></th>\n",
       "      <th></th>\n",
       "      <th></th>\n",
       "    </tr>\n",
       "  </thead>\n",
       "  <tbody>\n",
       "    <tr>\n",
       "      <th>1</th>\n",
       "      <td>1421</td>\n",
       "      <td>1421</td>\n",
       "      <td>n't unless like having belongings stolen, book...</td>\n",
       "      <td>1</td>\n",
       "    </tr>\n",
       "    <tr>\n",
       "      <th>2</th>\n",
       "      <td>1793</td>\n",
       "      <td>1793</td>\n",
       "      <td>n't bring valuable beautiful hotel grounds hug...</td>\n",
       "      <td>1</td>\n",
       "    </tr>\n",
       "    <tr>\n",
       "      <th>3</th>\n",
       "      <td>2184</td>\n",
       "      <td>2184</td>\n",
       "      <td>pay wife stayed seven-day period december 3rd ...</td>\n",
       "      <td>1</td>\n",
       "    </tr>\n",
       "    <tr>\n",
       "      <th>4</th>\n",
       "      <td>6039</td>\n",
       "      <td>6039</td>\n",
       "      <td>great resort awesome staff, loved resort, beau...</td>\n",
       "      <td>1</td>\n",
       "    </tr>\n",
       "    <tr>\n",
       "      <th>5</th>\n",
       "      <td>9054</td>\n",
       "      <td>9054</td>\n",
       "      <td>nice surprise, friend stayed days august 2008....</td>\n",
       "      <td>1</td>\n",
       "    </tr>\n",
       "  </tbody>\n",
       "</table>\n",
       "</div>"
      ],
      "text/plain": [
       "       Review                                                               \n",
       "        count unique                                                top freq\n",
       "Rating                                                                      \n",
       "1        1421   1421  n't unless like having belongings stolen, book...    1\n",
       "2        1793   1793  n't bring valuable beautiful hotel grounds hug...    1\n",
       "3        2184   2184  pay wife stayed seven-day period december 3rd ...    1\n",
       "4        6039   6039  great resort awesome staff, loved resort, beau...    1\n",
       "5        9054   9054  nice surprise, friend stayed days august 2008....    1"
      ]
     },
     "execution_count": 6,
     "metadata": {},
     "output_type": "execute_result"
    }
   ],
   "source": [
    "data.groupby('Rating').describe()"
   ]
  },
  {
   "cell_type": "code",
   "execution_count": 20,
   "metadata": {},
   "outputs": [
    {
     "data": {
      "text/plain": [
       "1    1421\n",
       "2    1793\n",
       "3    2184\n",
       "4    6039\n",
       "5    9054\n",
       "Name: Rating, dtype: int64"
      ]
     },
     "execution_count": 20,
     "metadata": {},
     "output_type": "execute_result"
    }
   ],
   "source": [
    "data['Rating'].value_counts(sort=False)"
   ]
  },
  {
   "cell_type": "code",
   "execution_count": 16,
   "metadata": {},
   "outputs": [],
   "source": [
    "import seaborn as sns"
   ]
  },
  {
   "cell_type": "code",
   "execution_count": 29,
   "metadata": {},
   "outputs": [],
   "source": [
    "sns.set_theme(style=\"whitegrid\")"
   ]
  },
  {
   "cell_type": "code",
   "execution_count": 22,
   "metadata": {},
   "outputs": [],
   "source": [
    "ratings=data['Rating'].value_counts(sort=False).index"
   ]
  },
  {
   "cell_type": "code",
   "execution_count": 23,
   "metadata": {},
   "outputs": [
    {
     "data": {
      "text/plain": [
       "Int64Index([1, 2, 3, 4, 5], dtype='int64')"
      ]
     },
     "execution_count": 23,
     "metadata": {},
     "output_type": "execute_result"
    }
   ],
   "source": [
    "ratings"
   ]
  },
  {
   "cell_type": "code",
   "execution_count": 26,
   "metadata": {},
   "outputs": [],
   "source": [
    "rating_counts=data['Rating'].value_counts(sort=False).values"
   ]
  },
  {
   "cell_type": "code",
   "execution_count": 27,
   "metadata": {},
   "outputs": [
    {
     "data": {
      "text/plain": [
       "array([1421, 1793, 2184, 6039, 9054], dtype=int64)"
      ]
     },
     "execution_count": 27,
     "metadata": {},
     "output_type": "execute_result"
    }
   ],
   "source": [
    "rating_counts"
   ]
  },
  {
   "cell_type": "code",
   "execution_count": 30,
   "metadata": {},
   "outputs": [
    {
     "data": {
      "text/plain": [
       "<AxesSubplot:>"
      ]
     },
     "execution_count": 30,
     "metadata": {},
     "output_type": "execute_result"
    },
    {
     "data": {
      "image/png": "[encoded data removed]",
      "text/plain": [
       "<Figure size 432x288 with 1 Axes>"
      ]
     },
     "metadata": {},
     "output_type": "display_data"
    }
   ],
   "source": [
    "sns.barplot(x=ratings,y=rating_counts)"
   ]
  },
  {
   "cell_type": "code",
   "execution_count": 44,
   "metadata": {},
   "outputs": [
    {
     "name": "stdout",
     "output_type": "stream",
     "text": [
      "<class 'pandas.core.frame.DataFrame'>\n",
      "RangeIndex: 20491 entries, 0 to 20490\n",
      "Data columns (total 2 columns):\n",
      "Review    20491 non-null object\n",
      "Rating    20491 non-null int64\n",
      "dtypes: int64(1), object(1)\n",
      "memory usage: 320.3+ KB\n"
     ]
    }
   ],
   "source": [
    "data.info()"
   ]
  },
  {
   "cell_type": "code",
   "execution_count": 46,
   "metadata": {},
   "outputs": [
    {
     "data": {
      "text/plain": [
       "20491"
      ]
     },
     "execution_count": 46,
     "metadata": {},
     "output_type": "execute_result"
    }
   ],
   "source": [
    "len(data)"
   ]
  },
  {
   "cell_type": "code",
   "execution_count": 45,
   "metadata": {},
   "outputs": [],
   "source": [
    "from sklearn.model_selection import train_test_split"
   ]
  },
  {
   "cell_type": "code",
   "execution_count": 48,
   "metadata": {},
   "outputs": [],
   "source": [
    "X_train,X_test,Y_train,Y_test=train_test_split(data.Review,data.Rating,test_size=0.2,random_state=42)"
   ]
  },
  {
   "cell_type": "code",
   "execution_count": 49,
   "metadata": {},
   "outputs": [],
   "source": [
    "from sklearn.feature_extraction.text import CountVectorizer"
   ]
  },
  {
   "cell_type": "code",
   "execution_count": 50,
   "metadata": {},
   "outputs": [],
   "source": [
    "cv=CountVectorizer()"
   ]
  },
  {
   "cell_type": "code",
   "execution_count": 106,
   "metadata": {},
   "outputs": [],
   "source": [
    "X=cv.fit_transform(X_train.values)"
   ]
  },
  {
   "cell_type": "code",
   "execution_count": 107,
   "metadata": {},
   "outputs": [
    {
     "data": {
      "text/plain": [
       "['00',\n",
       " '000',\n",
       " '0001',\n",
       " '000__çî_',\n",
       " '000rp',\n",
       " '000sf',\n",
       " '000us',\n",
       " '000year',\n",
       " '00a',\n",
       " '00am',\n",
       " '00beach',\n",
       " '00dls',\n",
       " '00dollars',\n",
       " '00eur',\n",
       " '00gbp',\n",
       " '00hrs',\n",
       " '00md',\n",
       " '00p',\n",
       " '00pm',\n",
       " '00pp',\n",
       " '00stop',\n",
       " '00us',\n",
       " '00usd',\n",
       " '01',\n",
       " '0114',\n",
       " '0123',\n",
       " '0126',\n",
       " '01st',\n",
       " '02',\n",
       " '0200',\n",
       " '025',\n",
       " '02where',\n",
       " '03',\n",
       " '0300',\n",
       " '0361',\n",
       " '04',\n",
       " '04hotel',\n",
       " '04i',\n",
       " '05',\n",
       " '0500',\n",
       " '055',\n",
       " '05i',\n",
       " '05pm',\n",
       " '06',\n",
       " '0600',\n",
       " '06recently',\n",
       " '06we',\n",
       " '07',\n",
       " '0700',\n",
       " '0730',\n",
       " '0764112570',\n",
       " '07hola',\n",
       " '07reviewer',\n",
       " '08',\n",
       " '0800',\n",
       " '081',\n",
       " '0830',\n",
       " '0845',\n",
       " '085',\n",
       " '08did',\n",
       " '08if',\n",
       " '09',\n",
       " '0900',\n",
       " '0900hrs',\n",
       " '0915',\n",
       " '0__ç_é_',\n",
       " '0h0',\n",
       " '10',\n",
       " '100',\n",
       " '1000',\n",
       " '10000',\n",
       " '100000000000000000000000000000000000',\n",
       " '1000___',\n",
       " '1000am',\n",
       " '1000ft',\n",
       " '1000hkd',\n",
       " '1000pp',\n",
       " '1001',\n",
       " '10060',\n",
       " '1008',\n",
       " '1009',\n",
       " '100__ç_é_',\n",
       " '100am',\n",
       " '100euro',\n",
       " '100euros',\n",
       " '100hk',\n",
       " '100m',\n",
       " '100mph',\n",
       " '100rmb',\n",
       " '100s',\n",
       " '100us',\n",
       " '100usd',\n",
       " '100x',\n",
       " '100yards',\n",
       " '101',\n",
       " '10102',\n",
       " '10112',\n",
       " '10115',\n",
       " '1015pm',\n",
       " '1019',\n",
       " '102',\n",
       " '102dalmations',\n",
       " '103',\n",
       " '1030',\n",
       " '1030am',\n",
       " '1030pm',\n",
       " '1032',\n",
       " '104',\n",
       " '105',\n",
       " '1057',\n",
       " '106',\n",
       " '1060',\n",
       " '107',\n",
       " '107e',\n",
       " '108',\n",
       " '1080',\n",
       " '109',\n",
       " '1096',\n",
       " '1099',\n",
       " '10___',\n",
       " '10a',\n",
       " '10activities',\n",
       " '10am',\n",
       " '10am__çî_ölthough',\n",
       " '10beach',\n",
       " '10c',\n",
       " '10cm',\n",
       " '10days',\n",
       " '10e',\n",
       " '10eu',\n",
       " '10euro',\n",
       " '10euros',\n",
       " '10food',\n",
       " '10general',\n",
       " '10grounds',\n",
       " '10hrs',\n",
       " '10if',\n",
       " '10ish',\n",
       " '10k',\n",
       " '10lbs',\n",
       " '10m',\n",
       " '10min',\n",
       " '10mins',\n",
       " '10minute',\n",
       " '10minutes',\n",
       " '10mn',\n",
       " '10mths',\n",
       " '10my',\n",
       " '10p',\n",
       " '10plenty',\n",
       " '10pm',\n",
       " '10pmish',\n",
       " '10room',\n",
       " '10s',\n",
       " '10sep',\n",
       " '10sqm',\n",
       " '10th',\n",
       " '10this',\n",
       " '10us',\n",
       " '10usd',\n",
       " '10x',\n",
       " '10x10',\n",
       " '10x12',\n",
       " '10xs',\n",
       " '10years',\n",
       " '10yold',\n",
       " '10yr',\n",
       " '10yrs',\n",
       " '11',\n",
       " '110',\n",
       " '1100',\n",
       " '110000',\n",
       " '11008',\n",
       " '1100hkd',\n",
       " '1100pm',\n",
       " '1101',\n",
       " '1104',\n",
       " '1105',\n",
       " '1106',\n",
       " '110___',\n",
       " '110e',\n",
       " '110euros',\n",
       " '111',\n",
       " '1111',\n",
       " '11111',\n",
       " '112',\n",
       " '113',\n",
       " '1130pm',\n",
       " '113usd',\n",
       " '114',\n",
       " '1145',\n",
       " '1149',\n",
       " '115',\n",
       " '11560',\n",
       " '116',\n",
       " '118',\n",
       " '119',\n",
       " '11am',\n",
       " '11and',\n",
       " '11ish',\n",
       " '11p',\n",
       " '11pm',\n",
       " '11s',\n",
       " '11th',\n",
       " '11thwe',\n",
       " '11weather',\n",
       " '11x13',\n",
       " '12',\n",
       " '120',\n",
       " '1200',\n",
       " '12000',\n",
       " '120000rp',\n",
       " '1201',\n",
       " '1203',\n",
       " '1206',\n",
       " '1208',\n",
       " '120cm',\n",
       " '120pounds',\n",
       " '120us',\n",
       " '120v',\n",
       " '121',\n",
       " '1213',\n",
       " '1219',\n",
       " '122',\n",
       " '1223',\n",
       " '1225',\n",
       " '123',\n",
       " '1230',\n",
       " '1230pm',\n",
       " '123france',\n",
       " '124',\n",
       " '1240',\n",
       " '1246',\n",
       " '125',\n",
       " '126',\n",
       " '127',\n",
       " '1272',\n",
       " '1276',\n",
       " '128',\n",
       " '128k',\n",
       " '129',\n",
       " '12___',\n",
       " '12__ç',\n",
       " '12am',\n",
       " '12e',\n",
       " '12euros',\n",
       " '12ft',\n",
       " '12hrs',\n",
       " '12ish',\n",
       " '12m',\n",
       " '12n',\n",
       " '12nd',\n",
       " '12noon',\n",
       " '12of',\n",
       " '12oz',\n",
       " '12pm',\n",
       " '12th',\n",
       " '12yr',\n",
       " '13',\n",
       " '130',\n",
       " '1300',\n",
       " '1301',\n",
       " '1305',\n",
       " '1307',\n",
       " '1308',\n",
       " '1309',\n",
       " '130___',\n",
       " '1311',\n",
       " '131euros',\n",
       " '132',\n",
       " '133',\n",
       " '133euro',\n",
       " '134',\n",
       " '1347',\n",
       " '135',\n",
       " '1350',\n",
       " '135e',\n",
       " '135euros',\n",
       " '136',\n",
       " '138',\n",
       " '139',\n",
       " '139th',\n",
       " '13___',\n",
       " '13euros',\n",
       " '13hr',\n",
       " '13sep',\n",
       " '13th',\n",
       " '13usd',\n",
       " '13x13',\n",
       " '13year',\n",
       " '13yr',\n",
       " '14',\n",
       " '140',\n",
       " '1400',\n",
       " '14000',\n",
       " '14002',\n",
       " '1400hkd',\n",
       " '1401',\n",
       " '1403',\n",
       " '1405',\n",
       " '1406',\n",
       " '1407',\n",
       " '140cad',\n",
       " '140euro',\n",
       " '140lbs',\n",
       " '140x200',\n",
       " '141',\n",
       " '1415',\n",
       " '143',\n",
       " '144',\n",
       " '145',\n",
       " '145euros',\n",
       " '147',\n",
       " '148',\n",
       " '149',\n",
       " '14___',\n",
       " '14cb',\n",
       " '14days',\n",
       " '14euros',\n",
       " '14ft',\n",
       " '14hour',\n",
       " '14hrs',\n",
       " '14mths',\n",
       " '14of',\n",
       " '14p',\n",
       " '14th',\n",
       " '14x22',\n",
       " '14xx',\n",
       " '15',\n",
       " '150',\n",
       " '1500',\n",
       " '15005',\n",
       " '1500ml',\n",
       " '1507',\n",
       " '150eur',\n",
       " '150euros',\n",
       " '150hk',\n",
       " '150hkd',\n",
       " '150km',\n",
       " '150m',\n",
       " '150metres',\n",
       " '151',\n",
       " '1512',\n",
       " '153',\n",
       " '1530',\n",
       " '1530hrs',\n",
       " '154',\n",
       " '155',\n",
       " '156',\n",
       " '156aud',\n",
       " '157',\n",
       " '158',\n",
       " '159',\n",
       " '15___',\n",
       " '15__ç_',\n",
       " '15am',\n",
       " '15e',\n",
       " '15eur',\n",
       " '15euro',\n",
       " '15euros',\n",
       " '15food',\n",
       " '15gbp',\n",
       " '15hours',\n",
       " '15inch',\n",
       " '15ish',\n",
       " '15k',\n",
       " '15miles',\n",
       " '15million',\n",
       " '15min',\n",
       " '15mins',\n",
       " '15minutes',\n",
       " '15mn',\n",
       " '15pm',\n",
       " '15pmthe',\n",
       " '15sq',\n",
       " '15st',\n",
       " '15th',\n",
       " '15usd',\n",
       " '15yr',\n",
       " '16',\n",
       " '160',\n",
       " '1600',\n",
       " '1602',\n",
       " '1605',\n",
       " '1609',\n",
       " '161',\n",
       " '1616',\n",
       " '162',\n",
       " '1621',\n",
       " '163',\n",
       " '1644',\n",
       " '165',\n",
       " '165___',\n",
       " '165pp',\n",
       " '166',\n",
       " '1666',\n",
       " '167',\n",
       " '168',\n",
       " '169',\n",
       " '16euro',\n",
       " '16th',\n",
       " '16yr',\n",
       " '17',\n",
       " '170',\n",
       " '1700',\n",
       " '1704',\n",
       " '1706',\n",
       " '170e',\n",
       " '170sg',\n",
       " '1710',\n",
       " '1716',\n",
       " '1717',\n",
       " '172',\n",
       " '1730',\n",
       " '1739',\n",
       " '174',\n",
       " '175',\n",
       " '17500',\n",
       " '176',\n",
       " '1766',\n",
       " '177',\n",
       " '178',\n",
       " '179',\n",
       " '17e',\n",
       " '17euros',\n",
       " '17h',\n",
       " '17hrs',\n",
       " '17th',\n",
       " '17year',\n",
       " '17yr',\n",
       " '18',\n",
       " '180',\n",
       " '1800',\n",
       " '1800__ç_é_',\n",
       " '1800hkd',\n",
       " '1800s',\n",
       " '1804',\n",
       " '1808',\n",
       " '180cm',\n",
       " '180hkd',\n",
       " '183',\n",
       " '183cm',\n",
       " '184',\n",
       " '185',\n",
       " '1850',\n",
       " '1856',\n",
       " '185e',\n",
       " '187',\n",
       " '1880',\n",
       " '189',\n",
       " '1897',\n",
       " '1898',\n",
       " '18__ç',\n",
       " '18e',\n",
       " '18euros',\n",
       " '18ft',\n",
       " '18i',\n",
       " '18month',\n",
       " '18s',\n",
       " '18th',\n",
       " '19',\n",
       " '190',\n",
       " '1900',\n",
       " '1906',\n",
       " '1907',\n",
       " '1909',\n",
       " '190___',\n",
       " '190cm',\n",
       " '191',\n",
       " '1919',\n",
       " '192',\n",
       " '1920',\n",
       " '1920s',\n",
       " '1924',\n",
       " '1925',\n",
       " '1929',\n",
       " '193',\n",
       " '1930',\n",
       " '1930s',\n",
       " '1933',\n",
       " '1939',\n",
       " '194',\n",
       " '1940',\n",
       " '1946',\n",
       " '1949',\n",
       " '195',\n",
       " '1950',\n",
       " '1950s',\n",
       " '196',\n",
       " '1960',\n",
       " '1960__ç_é_',\n",
       " '1962',\n",
       " '1964',\n",
       " '1968',\n",
       " '1970',\n",
       " '1970s',\n",
       " '1972',\n",
       " '1975',\n",
       " '1977',\n",
       " '198',\n",
       " '1980',\n",
       " '1980s',\n",
       " '1981',\n",
       " '1982',\n",
       " '1985',\n",
       " '1986',\n",
       " '1988',\n",
       " '199',\n",
       " '1990',\n",
       " '1990s',\n",
       " '1992',\n",
       " '1993',\n",
       " '1994',\n",
       " '1995',\n",
       " '1996',\n",
       " '1997',\n",
       " '1998',\n",
       " '1999',\n",
       " '19e',\n",
       " '19ft',\n",
       " '19inch',\n",
       " '19oct',\n",
       " '19th',\n",
       " '19yrs',\n",
       " '1___',\n",
       " '1_èæ',\n",
       " '1a',\n",
       " '1actv',\n",
       " '1am',\n",
       " '1and',\n",
       " '1b',\n",
       " '1bcs',\n",
       " '1br',\n",
       " '1bring',\n",
       " '1complaint',\n",
       " '1day',\n",
       " '1e',\n",
       " '1ea',\n",
       " '1er',\n",
       " '1euro',\n",
       " '1hour',\n",
       " '1hr',\n",
       " '1in',\n",
       " '1inch',\n",
       " '1infant',\n",
       " '1ish',\n",
       " '1k',\n",
       " '1kand',\n",
       " '1kg',\n",
       " '1kid',\n",
       " '1king',\n",
       " '1km',\n",
       " '1l',\n",
       " '1m80',\n",
       " '1making',\n",
       " '1mile',\n",
       " '1min',\n",
       " '1night',\n",
       " '1october',\n",
       " '1p',\n",
       " '1pm',\n",
       " '1rst',\n",
       " '1s',\n",
       " '1st',\n",
       " '1treadmill',\n",
       " '1usd',\n",
       " '1we',\n",
       " '1x',\n",
       " '1yo',\n",
       " '1yr',\n",
       " '20',\n",
       " '200',\n",
       " '2000',\n",
       " '20000',\n",
       " '2000sq',\n",
       " '2001',\n",
       " '2002',\n",
       " '2003',\n",
       " '2004',\n",
       " '2004dont',\n",
       " '2004had',\n",
       " '2004we',\n",
       " '2005',\n",
       " '2005just',\n",
       " '2005my',\n",
       " '2005sue',\n",
       " '2005the',\n",
       " '2005this',\n",
       " '2005we',\n",
       " '2006',\n",
       " '2006booked',\n",
       " '2006by',\n",
       " '2006experience',\n",
       " '2006have',\n",
       " '2006i',\n",
       " '2006positivesgreat',\n",
       " '2006pros',\n",
       " '2006resort',\n",
       " '2006reviewer',\n",
       " '2006val',\n",
       " '2006we',\n",
       " '2007',\n",
       " '2007__ç',\n",
       " '2007casablanca',\n",
       " '2007dear',\n",
       " '2007fantastic',\n",
       " '2007firstly',\n",
       " '2007great',\n",
       " '2007i',\n",
       " '2007me',\n",
       " '2007my',\n",
       " '2007reviewer',\n",
       " '2007stayed',\n",
       " '2007this',\n",
       " '2007we',\n",
       " '2008',\n",
       " '2008had',\n",
       " '2008having',\n",
       " '2008i',\n",
       " '2008my',\n",
       " '2008reviewer',\n",
       " '2008staff',\n",
       " '2008submitted',\n",
       " '2008the',\n",
       " '2008up',\n",
       " '2008we',\n",
       " '2009',\n",
       " '2009on',\n",
       " '200e',\n",
       " '200eur',\n",
       " '200euro',\n",
       " '200euros',\n",
       " '200m',\n",
       " '200mb',\n",
       " '200rmb',\n",
       " '200us',\n",
       " '200usd',\n",
       " '200yards',\n",
       " '201',\n",
       " '2010',\n",
       " '20108',\n",
       " '2012',\n",
       " '202',\n",
       " '2020',\n",
       " '203',\n",
       " '2030',\n",
       " '204',\n",
       " '205',\n",
       " '2050',\n",
       " '205___',\n",
       " '206',\n",
       " '2063',\n",
       " '207',\n",
       " '208',\n",
       " '209',\n",
       " '20___',\n",
       " '20__ç_é_',\n",
       " '20airport',\n",
       " '20am',\n",
       " '20au',\n",
       " '20bars',\n",
       " '20bucks',\n",
       " '20c',\n",
       " '20cad',\n",
       " '20cm',\n",
       " '20e',\n",
       " '20euro',\n",
       " '20euros',\n",
       " '20garden',\n",
       " '20hk',\n",
       " '20hkd',\n",
       " '20ies',\n",
       " '20k',\n",
       " '20kingston',\n",
       " '20m',\n",
       " '20metres',\n",
       " '20min',\n",
       " '20mins',\n",
       " '20minute',\n",
       " '20minutes',\n",
       " '20mts',\n",
       " '20oc',\n",
       " '20oz',\n",
       " '20p',\n",
       " '20pm',\n",
       " '20s',\n",
       " '20th',\n",
       " '20us',\n",
       " '20usd',\n",
       " '21',\n",
       " '210',\n",
       " '2100',\n",
       " '2102',\n",
       " '211',\n",
       " '2110',\n",
       " '2113',\n",
       " '2114',\n",
       " '2116',\n",
       " '2117',\n",
       " '2118',\n",
       " '2119',\n",
       " '211this',\n",
       " '212',\n",
       " '2123',\n",
       " '2128',\n",
       " '213',\n",
       " '2132',\n",
       " '2133',\n",
       " '214',\n",
       " '2145',\n",
       " '215',\n",
       " '2153',\n",
       " '216',\n",
       " '217',\n",
       " '2170',\n",
       " '218',\n",
       " '219',\n",
       " '2191',\n",
       " '21e',\n",
       " '21eur',\n",
       " '21st',\n",
       " '21th',\n",
       " '21year',\n",
       " '22',\n",
       " '220',\n",
       " '2200',\n",
       " '2201',\n",
       " '2203',\n",
       " '2205',\n",
       " '220euro',\n",
       " '22112',\n",
       " '2218',\n",
       " '222',\n",
       " '2221',\n",
       " '2222',\n",
       " '2227',\n",
       " '2228',\n",
       " '223',\n",
       " '224',\n",
       " '225',\n",
       " '226',\n",
       " '2267',\n",
       " '228',\n",
       " '229',\n",
       " '22___',\n",
       " '22c',\n",
       " '22degrees',\n",
       " '22euro',\n",
       " '22euros',\n",
       " '22hundred',\n",
       " '22nd',\n",
       " '22ndawesome',\n",
       " '22th',\n",
       " '22yrs',\n",
       " '23',\n",
       " '230',\n",
       " '2300',\n",
       " '2300hrs',\n",
       " '2303',\n",
       " '2304',\n",
       " '2305',\n",
       " '2323',\n",
       " '2324',\n",
       " '233',\n",
       " '2330',\n",
       " '234',\n",
       " '235',\n",
       " '239',\n",
       " '23c',\n",
       " '23hk',\n",
       " '23hr',\n",
       " '23rd',\n",
       " '24',\n",
       " '240',\n",
       " '241',\n",
       " '242',\n",
       " '244285',\n",
       " '245',\n",
       " '246',\n",
       " '247',\n",
       " '249',\n",
       " '24___',\n",
       " '24c',\n",
       " '24e',\n",
       " '24euros',\n",
       " '24h',\n",
       " '24hour',\n",
       " '24hours',\n",
       " '24hr',\n",
       " '24hrs',\n",
       " '24th',\n",
       " '24the',\n",
       " '24we',\n",
       " '24x30',\n",
       " '24x7',\n",
       " '25',\n",
       " '250',\n",
       " '2500',\n",
       " '250___',\n",
       " '250hkd',\n",
       " '250lb',\n",
       " '250lbs',\n",
       " '250m',\n",
       " '250rmb',\n",
       " '25112',\n",
       " '252',\n",
       " '25208',\n",
       " '255',\n",
       " '257',\n",
       " '258',\n",
       " '259',\n",
       " '25am',\n",
       " '25au',\n",
       " '25c',\n",
       " '25cent',\n",
       " '25e',\n",
       " '25euro',\n",
       " '25euros',\n",
       " '25m',\n",
       " '25min',\n",
       " '25mins',\n",
       " '25minutes',\n",
       " '25percent',\n",
       " '25pm',\n",
       " '25pp',\n",
       " '25rmb',\n",
       " '25th',\n",
       " '25us',\n",
       " '25yr',\n",
       " '26',\n",
       " '260',\n",
       " '2600',\n",
       " '2621',\n",
       " '2623',\n",
       " '2628',\n",
       " '265',\n",
       " '267',\n",
       " '268',\n",
       " '269',\n",
       " '2695',\n",
       " '26c',\n",
       " '26e',\n",
       " '26euro',\n",
       " '26m',\n",
       " '26mph',\n",
       " '26th',\n",
       " '26us',\n",
       " '26we',\n",
       " '27',\n",
       " '270',\n",
       " '2700',\n",
       " '273',\n",
       " '275',\n",
       " '2765',\n",
       " '278',\n",
       " '279',\n",
       " '27c',\n",
       " '27e',\n",
       " '27inch',\n",
       " '27r',\n",
       " '27th',\n",
       " '28',\n",
       " '280',\n",
       " '2800',\n",
       " '2805',\n",
       " '2808',\n",
       " '280gram',\n",
       " '280us',\n",
       " '281',\n",
       " '282',\n",
       " '2827',\n",
       " '282d',\n",
       " '285',\n",
       " '287',\n",
       " '289',\n",
       " '28c',\n",
       " '28june',\n",
       " '28km',\n",
       " '28th',\n",
       " '28we',\n",
       " '29',\n",
       " '290',\n",
       " '2903',\n",
       " '295',\n",
       " '295012',\n",
       " '296',\n",
       " '299',\n",
       " '29minutes',\n",
       " '29pesos',\n",
       " '29th',\n",
       " '2__ç',\n",
       " '2_èæ',\n",
       " '2a',\n",
       " '2ad',\n",
       " '2adults',\n",
       " '2am',\n",
       " '2b',\n",
       " '2bath',\n",
       " '2bdrm',\n",
       " '2bed',\n",
       " '2beds',\n",
       " '2br',\n",
       " '2bucks',\n",
       " '2c',\n",
       " '2ch',\n",
       " '2children',\n",
       " '2d',\n",
       " '2days',\n",
       " '2double',\n",
       " '2doubles',\n",
       " '2e',\n",
       " '2euros',\n",
       " '2ft',\n",
       " '2gether',\n",
       " '2h30',\n",
       " '2hkd',\n",
       " '2hr',\n",
       " '2hrs',\n",
       " '2ish',\n",
       " '2k',\n",
       " '2kids',\n",
       " '2km',\n",
       " '2kms',\n",
       " '2l',\n",
       " '2min',\n",
       " '2mins',\n",
       " '2minute',\n",
       " '2mths',\n",
       " '2nd',\n",
       " '2ndfloor',\n",
       " '2no',\n",
       " '2nts',\n",
       " '2people',\n",
       " '2pm',\n",
       " '2pmish',\n",
       " '2queen',\n",
       " '2s',\n",
       " '2seater',\n",
       " '2star',\n",
       " '2twin',\n",
       " '2us',\n",
       " '2usd',\n",
       " '2we',\n",
       " '2week',\n",
       " '2weeks',\n",
       " '2x',\n",
       " '2x2',\n",
       " '2x4',\n",
       " '2xs',\n",
       " '2yr',\n",
       " '2yrs',\n",
       " '30',\n",
       " '300',\n",
       " '3000',\n",
       " '30000',\n",
       " '3002',\n",
       " '3005',\n",
       " '300___',\n",
       " '300am',\n",
       " '300m',\n",
       " '300s',\n",
       " '301',\n",
       " '3010',\n",
       " '302',\n",
       " '3024',\n",
       " '303',\n",
       " '304',\n",
       " '305',\n",
       " '306',\n",
       " '3062',\n",
       " '307',\n",
       " '308',\n",
       " '309',\n",
       " '30___c',\n",
       " '30__ç',\n",
       " '30__ç_é_',\n",
       " '30a',\n",
       " '30am',\n",
       " '30aus',\n",
       " '30c',\n",
       " '30cm',\n",
       " '30e',\n",
       " '30euro',\n",
       " '30gbp',\n",
       " '30hk',\n",
       " '30hp',\n",
       " '30ish',\n",
       " '30min',\n",
       " '30mins',\n",
       " '30minutes',\n",
       " '30mts',\n",
       " '30p',\n",
       " '30pm',\n",
       " '30pm2',\n",
       " '30pp',\n",
       " '30s',\n",
       " '30sing',\n",
       " '30th',\n",
       " '30us',\n",
       " '30usd',\n",
       " ...]"
      ]
     },
     "execution_count": 107,
     "metadata": {},
     "output_type": "execute_result"
    }
   ],
   "source": [
    "cv.get_feature_names()"
   ]
  },
  {
   "cell_type": "code",
   "execution_count": 108,
   "metadata": {},
   "outputs": [
    {
     "name": "stdout",
     "output_type": "stream",
     "text": [
      "[[0 0 0 ... 0 0 0]\n",
      " [0 0 0 ... 0 0 0]\n",
      " [0 0 0 ... 0 0 0]\n",
      " ...\n",
      " [0 0 0 ... 0 0 0]\n",
      " [0 0 0 ... 0 0 0]\n",
      " [0 0 0 ... 0 0 0]]\n"
     ]
    }
   ],
   "source": [
    "print(X.toarray())"
   ]
  },
  {
   "cell_type": "code",
   "execution_count": 109,
   "metadata": {},
   "outputs": [],
   "source": [
    "from sklearn.naive_bayes import MultinomialNB"
   ]
  },
  {
   "cell_type": "code",
   "execution_count": 110,
   "metadata": {},
   "outputs": [],
   "source": [
    "model=MultinomialNB()"
   ]
  },
  {
   "cell_type": "code",
   "execution_count": 111,
   "metadata": {},
   "outputs": [
    {
     "data": {
      "text/plain": [
       "MultinomialNB()"
      ]
     },
     "execution_count": 111,
     "metadata": {},
     "output_type": "execute_result"
    }
   ],
   "source": [
    "model.fit(X,Y_train)"
   ]
  },
  {
   "cell_type": "code",
   "execution_count": 128,
   "metadata": {},
   "outputs": [],
   "source": [
    "test_review=[\n",
    "    'This is the best hotel to stay. It offres everything you want.',\n",
    "    'This is worst hotel'\n",
    "]"
   ]
  },
  {
   "cell_type": "code",
   "execution_count": 129,
   "metadata": {},
   "outputs": [],
   "source": [
    "test_review_cv=cv.transform(test_review)"
   ]
  },
  {
   "cell_type": "code",
   "execution_count": 130,
   "metadata": {},
   "outputs": [
    {
     "data": {
      "text/plain": [
       "array([[0, 0, 0, ..., 0, 0, 0],\n",
       "       [0, 0, 0, ..., 0, 0, 0]], dtype=int64)"
      ]
     },
     "execution_count": 130,
     "metadata": {},
     "output_type": "execute_result"
    }
   ],
   "source": [
    "test_review_cv.toarray()"
   ]
  },
  {
   "cell_type": "code",
   "execution_count": 131,
   "metadata": {},
   "outputs": [
    {
     "data": {
      "text/plain": [
       "array([5, 1], dtype=int64)"
      ]
     },
     "execution_count": 131,
     "metadata": {},
     "output_type": "execute_result"
    }
   ],
   "source": [
    "model.predict(test_review_cv)"
   ]
  },
  {
   "cell_type": "markdown",
   "metadata": {},
   "source": [
    "# checking on test data"
   ]
  },
  {
   "cell_type": "code",
   "execution_count": 135,
   "metadata": {},
   "outputs": [],
   "source": [
    "test_count=cv.transform(X_test.values)"
   ]
  },
  {
   "cell_type": "code",
   "execution_count": 136,
   "metadata": {},
   "outputs": [
    {
     "data": {
      "text/plain": [
       "0.5930714808489875"
      ]
     },
     "execution_count": 136,
     "metadata": {},
     "output_type": "execute_result"
    }
   ],
   "source": [
    "model.score(test_count,Y_test)"
   ]
  },
  {
   "cell_type": "markdown",
   "metadata": {},
   "source": [
    "# Logistic Regression"
   ]
  },
  {
   "cell_type": "code",
   "execution_count": 137,
   "metadata": {},
   "outputs": [],
   "source": [
    "from sklearn.linear_model import LogisticRegression"
   ]
  },
  {
   "cell_type": "code",
   "execution_count": 138,
   "metadata": {},
   "outputs": [],
   "source": [
    "lg_model=LogisticRegression()"
   ]
  },
  {
   "cell_type": "code",
   "execution_count": 139,
   "metadata": {},
   "outputs": [
    {
     "name": "stderr",
     "output_type": "stream",
     "text": [
      "c:\\python\\python36\\lib\\site-packages\\sklearn\\linear_model\\_logistic.py:764: ConvergenceWarning: lbfgs failed to converge (status=1):\n",
      "STOP: TOTAL NO. of ITERATIONS REACHED LIMIT.\n",
      "\n",
      "Increase the number of iterations (max_iter) or scale the data as shown in:\n",
      "    https://scikit-learn.org/stable/modules/preprocessing.html\n",
      "Please also refer to the documentation for alternative solver options:\n",
      "    https://scikit-learn.org/stable/modules/linear_model.html#logistic-regression\n",
      "  extra_warning_msg=_LOGISTIC_SOLVER_CONVERGENCE_MSG)\n"
     ]
    },
    {
     "data": {
      "text/plain": [
       "LogisticRegression()"
      ]
     },
     "execution_count": 139,
     "metadata": {},
     "output_type": "execute_result"
    }
   ],
   "source": [
    "lg_model.fit(X,Y_train)"
   ]
  },
  {
   "cell_type": "code",
   "execution_count": 140,
   "metadata": {},
   "outputs": [
    {
     "data": {
      "text/plain": [
       "0.5989265674554769"
      ]
     },
     "execution_count": 140,
     "metadata": {},
     "output_type": "execute_result"
    }
   ],
   "source": [
    "lg_model.score(test_count,Y_test)"
   ]
  },
  {
   "cell_type": "code",
   "execution_count": 141,
   "metadata": {},
   "outputs": [
    {
     "data": {
      "text/plain": [
       "array([5, 1], dtype=int64)"
      ]
     },
     "execution_count": 141,
     "metadata": {},
     "output_type": "execute_result"
    }
   ],
   "source": [
    "lg_model.predict(test_review_cv)"
   ]
  },
  {
   "cell_type": "markdown",
   "metadata": {},
   "source": [
    "# Random Forest"
   ]
  },
  {
   "cell_type": "code",
   "execution_count": 142,
   "metadata": {},
   "outputs": [],
   "source": [
    "from sklearn.ensemble import RandomForestClassifier"
   ]
  },
  {
   "cell_type": "code",
   "execution_count": 143,
   "metadata": {},
   "outputs": [],
   "source": [
    "rf_model=RandomForestClassifier()"
   ]
  },
  {
   "cell_type": "code",
   "execution_count": 144,
   "metadata": {},
   "outputs": [
    {
     "data": {
      "text/plain": [
       "RandomForestClassifier()"
      ]
     },
     "execution_count": 144,
     "metadata": {},
     "output_type": "execute_result"
    }
   ],
   "source": [
    "rf_model.fit(X,Y_train)"
   ]
  },
  {
   "cell_type": "code",
   "execution_count": 145,
   "metadata": {},
   "outputs": [
    {
     "data": {
      "text/plain": [
       "0.5220785557453037"
      ]
     },
     "execution_count": 145,
     "metadata": {},
     "output_type": "execute_result"
    }
   ],
   "source": [
    "rf_model.score(test_count,Y_test)"
   ]
  },
  {
   "cell_type": "code",
   "execution_count": 146,
   "metadata": {},
   "outputs": [
    {
     "data": {
      "text/plain": [
       "array([5, 5], dtype=int64)"
      ]
     },
     "execution_count": 146,
     "metadata": {},
     "output_type": "execute_result"
    }
   ],
   "source": [
    "rf_model.predict(test_review_cv)"
   ]
  },
  {
   "cell_type": "markdown",
   "metadata": {},
   "source": [
    "# Saving model"
   ]
  },
  {
   "cell_type": "code",
   "execution_count": 147,
   "metadata": {},
   "outputs": [],
   "source": [
    "import joblib"
   ]
  },
  {
   "cell_type": "code",
   "execution_count": 150,
   "metadata": {},
   "outputs": [
    {
     "data": {
      "text/plain": [
       "['model.sav']"
      ]
     },
     "execution_count": 150,
     "metadata": {},
     "output_type": "execute_result"
    }
   ],
   "source": [
    "joblib.dump(lg_model,filename='model.sav')"
   ]
  },
  {
   "cell_type": "markdown",
   "metadata": {},
   "source": [
    "# Loading and testing"
   ]
  },
  {
   "cell_type": "code",
   "execution_count": 151,
   "metadata": {},
   "outputs": [],
   "source": [
    "my_model=joblib.load('model.sav')"
   ]
  },
  {
   "cell_type": "code",
   "execution_count": 152,
   "metadata": {},
   "outputs": [],
   "source": [
    "text=['One of the best hotel to stay during vacation']"
   ]
  },
  {
   "cell_type": "code",
   "execution_count": 153,
   "metadata": {},
   "outputs": [],
   "source": [
    "text_cv=cv.transform(text)"
   ]
  },
  {
   "cell_type": "code",
   "execution_count": 154,
   "metadata": {},
   "outputs": [
    {
     "data": {
      "text/plain": [
       "array([5], dtype=int64)"
      ]
     },
     "execution_count": 154,
     "metadata": {},
     "output_type": "execute_result"
    }
   ],
   "source": [
    "my_model.predict(text_cv)"
   ]
  },
  {
   "cell_type": "code",
   "execution_count": 156,
   "metadata": {},
   "outputs": [
    {
     "data": {
      "text/plain": [
       "'nice hotel expensive parking got good deal stay hotel anniversary, arrived late evening took advice previous reviews did valet parking, check quick easy, little disappointed non-existent view room room clean nice size, bed comfortable woke stiff neck high pillows, not soundproof like heard music room night morning loud bangs doors opening closing hear people talking hallway, maybe just noisy neighbors, aveda bath products nice, did not goldfish stay nice touch taken advantage staying longer, location great walking distance shopping, overall nice experience having pay 40 parking night,  '"
      ]
     },
     "execution_count": 156,
     "metadata": {},
     "output_type": "execute_result"
    }
   ],
   "source": [
    "data['Review'][0]"
   ]
  },
  {
   "cell_type": "code",
   "execution_count": 161,
   "metadata": {},
   "outputs": [],
   "source": [
    "review_zero=data['Review'][0]"
   ]
  },
  {
   "cell_type": "code",
   "execution_count": 163,
   "metadata": {},
   "outputs": [],
   "source": [
    "test_zero=cv.transform([review_zero])"
   ]
  },
  {
   "cell_type": "code",
   "execution_count": 164,
   "metadata": {},
   "outputs": [
    {
     "data": {
      "text/plain": [
       "array([4], dtype=int64)"
      ]
     },
     "execution_count": 164,
     "metadata": {},
     "output_type": "execute_result"
    }
   ],
   "source": [
    "my_model.predict(test_zero)"
   ]
  },
  {
   "cell_type": "code",
   "execution_count": 165,
   "metadata": {},
   "outputs": [
    {
     "data": {
      "text/plain": [
       "4"
      ]
     },
     "execution_count": 165,
     "metadata": {},
     "output_type": "execute_result"
    }
   ],
   "source": [
    "data['Rating'][0]"
   ]
  },
  {
   "cell_type": "markdown",
   "metadata": {},
   "source": [
    "#  Sklearn Pipeline"
   ]
  },
  {
   "cell_type": "code",
   "execution_count": 166,
   "metadata": {},
   "outputs": [],
   "source": [
    "from sklearn.pipeline import Pipeline"
   ]
  },
  {
   "cell_type": "code",
   "execution_count": 167,
   "metadata": {},
   "outputs": [],
   "source": [
    "clf=Pipeline([('vectorizer',CountVectorizer()),('lg',LogisticRegression())])"
   ]
  },
  {
   "cell_type": "code",
   "execution_count": 168,
   "metadata": {},
   "outputs": [
    {
     "name": "stderr",
     "output_type": "stream",
     "text": [
      "c:\\python\\python36\\lib\\site-packages\\sklearn\\linear_model\\_logistic.py:764: ConvergenceWarning: lbfgs failed to converge (status=1):\n",
      "STOP: TOTAL NO. of ITERATIONS REACHED LIMIT.\n",
      "\n",
      "Increase the number of iterations (max_iter) or scale the data as shown in:\n",
      "    https://scikit-learn.org/stable/modules/preprocessing.html\n",
      "Please also refer to the documentation for alternative solver options:\n",
      "    https://scikit-learn.org/stable/modules/linear_model.html#logistic-regression\n",
      "  extra_warning_msg=_LOGISTIC_SOLVER_CONVERGENCE_MSG)\n"
     ]
    },
    {
     "data": {
      "text/plain": [
       "Pipeline(steps=[('vectorizer', CountVectorizer()),\n",
       "                ('lg', LogisticRegression())])"
      ]
     },
     "execution_count": 168,
     "metadata": {},
     "output_type": "execute_result"
    }
   ],
   "source": [
    "clf.fit(X_train,Y_train)"
   ]
  },
  {
   "cell_type": "code",
   "execution_count": 169,
   "metadata": {},
   "outputs": [
    {
     "data": {
      "text/plain": [
       "0.5989265674554769"
      ]
     },
     "execution_count": 169,
     "metadata": {},
     "output_type": "execute_result"
    }
   ],
   "source": [
    "clf.score(X_test,Y_test)"
   ]
  },
  {
   "cell_type": "code",
   "execution_count": 170,
   "metadata": {},
   "outputs": [
    {
     "data": {
      "text/plain": [
       "['pipeline_model']"
      ]
     },
     "execution_count": 170,
     "metadata": {},
     "output_type": "execute_result"
    }
   ],
   "source": [
    "joblib.dump(clf,filename='pipeline_model')"
   ]
  },
  {
   "cell_type": "code",
   "execution_count": 171,
   "metadata": {},
   "outputs": [],
   "source": [
    "pipeline_model=joblib.load('pipeline_model')"
   ]
  },
  {
   "cell_type": "code",
   "execution_count": 175,
   "metadata": {},
   "outputs": [
    {
     "data": {
      "text/plain": [
       "array([5, 1], dtype=int64)"
      ]
     },
     "execution_count": 175,
     "metadata": {},
     "output_type": "execute_result"
    }
   ],
   "source": [
    "pipeline_model.predict(test_review)"
   ]
  },
  {
   "cell_type": "code",
   "execution_count": 178,
   "metadata": {},
   "outputs": [
    {
     "data": {
      "text/plain": [
       "array([3], dtype=int64)"
      ]
     },
     "execution_count": 178,
     "metadata": {},
     "output_type": "execute_result"
    }
   ],
   "source": [
    "pipeline_model.predict([data['Review'][100]])"
   ]
  },
  {
   "cell_type": "code",
   "execution_count": 179,
   "metadata": {},
   "outputs": [
    {
     "data": {
      "text/plain": [
       "'great location staff location price make older hotel good choice, staff friendly, looking modern place not, old studio apartment building run hotel, great neighborhood close great local resturants, hotel does not sterile tourist feeling newer mid range hotels, feels like small european hotel, yes rooms use little moderizing compermise, just reservations stay,  '"
      ]
     },
     "execution_count": 179,
     "metadata": {},
     "output_type": "execute_result"
    }
   ],
   "source": [
    "data.Review[100]"
   ]
  },
  {
   "cell_type": "code",
   "execution_count": 180,
   "metadata": {},
   "outputs": [
    {
     "data": {
      "text/plain": [
       "3"
      ]
     },
     "execution_count": 180,
     "metadata": {},
     "output_type": "execute_result"
    }
   ],
   "source": [
    "data.Rating[100]"
   ]
  },
  {
   "cell_type": "code",
   "execution_count": null,
   "metadata": {},
   "outputs": [],
   "source": []
  }
 ],
 "metadata": {
  "kernelspec": {
   "display_name": "Python 3",
   "language": "python",
   "name": "python3"
  },
  "language_info": {
   "codemirror_mode": {
    "name": "ipython",
    "version": 3
   },
   "file_extension": ".py",
   "mimetype": "text/x-python",
   "name": "python",
   "nbconvert_exporter": "python",
   "pygments_lexer": "ipython3",
   "version": "3.6.1"
  }
 },
 "nbformat": 4,
 "nbformat_minor": 4
}
